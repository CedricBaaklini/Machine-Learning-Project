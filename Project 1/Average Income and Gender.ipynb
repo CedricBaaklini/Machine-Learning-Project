{
 "cells": [
  {
   "metadata": {},
   "cell_type": "markdown",
   "source": "Importing packages and creating the DataFrame",
   "id": "334f48d278214b3a"
  },
  {
   "metadata": {},
   "cell_type": "code",
   "outputs": [],
   "execution_count": null,
   "source": [
    "import pandas as pd\n",
    "import matplotlib.pyplot as plt\n",
    "\n",
    "df = pd.read_csv('Mall_Customers.csv')"
   ],
   "id": "a1e372c3ab72a494"
  },
  {
   "metadata": {},
   "cell_type": "markdown",
   "source": "Calculating average and median annual income of the customers",
   "id": "4cd5264d50a32532"
  },
  {
   "metadata": {},
   "cell_type": "code",
   "outputs": [],
   "execution_count": null,
   "source": [
    "average_income = df['Annual Income (k$)'].mean()\n",
    "median_income = df['Annual Income (k$)'].median()\n",
    "min_income = df['Annual Income (k$)'].min()\n",
    "max_income = df['Annual Income (k$)'].max()\n",
    "q1_income = df['Annual Income (k$)'].quantile(0.25)\n",
    "q3_income = df['Annual Income (k$)'].quantile(0.75)\n",
    "\n",
    "print(f\"Average annual income of customers: ${average_income}K \\n\")\n",
    "print(f\"Median annual income of customers: ${median_income}K \\n\")\n",
    "print(f\"Minimum annual income of customers: ${min_income}K \\n\")\n",
    "print(f\"Q1 annual income of customers: ${q1_income}K \\n\")\n",
    "print(f\"Maximum annual income of customers: ${max_income}K \\n\")\n",
    "print(f\"Q3 annual income of customers: ${q1_income}K \\n\")\n",
    "\n",
    "if average_income > median_income:\n",
    "    print(\"The data is skewed to the right\")\n",
    "elif average_income < median_income:\n",
    "    print(\"The data is skewed to the left\")\n",
    "else:\n",
    "    print(\"The data is normal\")"
   ],
   "id": "5567a37458c84011"
  },
  {
   "metadata": {},
   "cell_type": "markdown",
   "source": "Creating a box plot",
   "id": "7485143bb4ebbf8e"
  },
  {
   "metadata": {},
   "cell_type": "code",
   "outputs": [],
   "execution_count": null,
   "source": [
    "plt.figure(figsize=(12, 8))\n",
    "box_plot = plt.boxplot(df['Annual Income (k$)'], patch_artist = True, boxprops = dict(facecolor = 'lightgreen', alpha = 0.7))\n",
    "\n",
    "stats = df['Annual Income (k$)'].describe()\n",
    "\n",
    "values = {\n",
    "    'Min': stats['min'],\n",
    "    'Q1': stats['25%'],\n",
    "    'Median': stats['50%'],\n",
    "    'Q3': stats['75%'],\n",
    "    'Max': stats['max']\n",
    "}\n",
    "\n",
    "for label, value in values.items():\n",
    "    plt.annotate(f'{label}: ${value:.1f}K', xy = (1, value), xytext = (1.3, value), fontsize = 10, verticalalignment = 'center', arrowprops = dict(arrowstyle = '->', color = 'black', lw = 0.5), bbox = dict(boxstyle = \"round, pad = 0.3\", facecolor = \"white\", alpha = 0.8))\n",
    "\n",
    "plt.title('Box Plot of Annual Income')\n",
    "plt.ylabel('Annual Income (k$)')\n",
    "plt.xlim(0.5, 2.5)\n",
    "plt.grid(True, alpha=0.3)\n",
    "plt.show()"
   ],
   "id": "cd0abcda68304153"
  },
  {
   "metadata": {},
   "cell_type": "markdown",
   "source": "Showing the number of males vs. females\n",
   "id": "569842be1c8dd193"
  },
  {
   "metadata": {},
   "cell_type": "code",
   "outputs": [],
   "execution_count": null,
   "source": [
    "gender_counts = df['Genre'].value_counts()\n",
    "\n",
    "plt.figure(figsize = (8, 6))\n",
    "plt.pie(gender_counts.values, labels = gender_counts.index, autopct = '%1.1f%%', startangle = 90, colors = ['pink', 'lightblue'])\n",
    "plt.title('Number of Male vs. Female Customers')\n",
    "plt.axis('equal')\n",
    "\n",
    "plt.show()"
   ],
   "id": "435970d61c0abb5b"
  }
 ],
 "metadata": {
  "kernelspec": {
   "display_name": "Python 3 (ipykernel)",
   "language": "python",
   "name": "python3"
  },
  "language_info": {
   "codemirror_mode": {
    "name": "ipython",
    "version": 2
   },
   "file_extension": ".py",
   "mimetype": "text/x-python",
   "name": "python",
   "nbconvert_exporter": "python",
   "pygments_lexer": "ipython2",
   "version": "2.7.6"
  }
 },
 "nbformat": 4,
 "nbformat_minor": 5
}
